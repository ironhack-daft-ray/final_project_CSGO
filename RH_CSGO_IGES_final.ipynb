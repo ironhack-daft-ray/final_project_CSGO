{
 "cells": [
  {
   "cell_type": "markdown",
   "metadata": {},
   "source": [
    "# CSGO - Predicting winning team of rounds"
   ]
  },
  {
   "cell_type": "markdown",
   "metadata": {},
   "source": [
    "### Game Introduction - CSGO"
   ]
  },
  {
   "cell_type": "markdown",
   "metadata": {},
   "source": [
    "Counter-Strike: Global Offensive (CSGO) is a first-person shooter that has become a global phenomenon and one of the hallmarks of the esport world. \n",
    "\n",
    "**GAME OBJECTIVE:**\n",
    "\n",
    "In Competitive Demolition Mode, two teams of 5 players each battle each: the Terrorists and the Counter-Terrorists.\n",
    "- As a Terrorist you are tasked with eliminating the opposition or planting the C4 bomb before the round time limit is reached and securing its detonation.\n",
    "- As a Counter-Terrorist you are tasked with eliminating the opposition, defusing the bomb if planted, or stalling the Terrorist attack long enough until the round time limit is reached.  \n",
    "\n",
    "**GAME LENGHT:**\n",
    "\n",
    "Matches are played as over a maximum of 30 rounds, the first team to secure 16 rounds wins the game. At the end of the 15th round the two teams switch sides.\n",
    "\n",
    "In regular matchmaking, if both teams secure 15 rounds then the match ends in a tie, however, in professional play and competitive leagues, the match will continue to an overtime.\n",
    "\n",
    "**GAME ECONOMICS:**\n",
    "\n",
    "Players start out a match with a specified amount, and will receive more as the match goes on by getting kills or going for the objectives. Money can then be used at the start of rounds to buy weapons and equipment, any residual money is taken over to the next round (reset at side-switch) to a maximum of $16000."
   ]
  },
  {
   "cell_type": "markdown",
   "metadata": {},
   "source": [
    "---"
   ]
  },
  {
   "cell_type": "markdown",
   "metadata": {},
   "source": [
    "### Data Sources"
   ]
  },
  {
   "cell_type": "markdown",
   "metadata": {},
   "source": [
    "Primary first hand data (directly from CSGO developer Valve Corporation) were unobtainable due to GDPR.\n",
    "\n",
    "Thus secondary hand data had to be made use of. I've utilized as a foundation the data found in this Kaggle [dataset](https://www.kaggle.com/skihikingkevin/csgo-matchmaking-damage) dating from 2018, covering just over 1400 competitive matchmaking matches. The data here was at the time extracted from competitive matchmaking replays submitted to csgo-stats."
   ]
  },
  {
   "cell_type": "markdown",
   "metadata": {},
   "source": [
    "### Lexicon\n",
    "\n",
    "**file:**\n",
    "*the file name that the demo was scraped from. This is a unique field for each match.*\n",
    "\n",
    "**map:**\n",
    "*the Valve official map the match was played on.*\n",
    "\n",
    "**date:**\n",
    "*date the match was played (unverified if they are correct).*\n",
    "\n",
    "**round:**\n",
    "*the round that the duel took place.*\n",
    "\n",
    "**tick:**\n",
    "*the current tick in the demo the entry took place. A tick is represented as a state in the game, Valve's competitive matchmaking sets every match at 64 ticks which represents that there are 64 states within each second of the game.*\n",
    "\n",
    "**seconds:**\n",
    "*the converted tick to seconds within the game since match start.*\n",
    "\n",
    "**att_team:**\n",
    "*the team that the attacking player is on that dealt damage to the victim. Usually Team 1 and 2 but in some recorded pro matches, can have custom team name e.g Games Academy.*\n",
    "\n",
    "**vic_team:**\n",
    "*the team that the victim player is on that received damage from the attacker.*\n",
    "\n",
    "**att_side:**\n",
    "*the side that the attacker was on. Can be Terrorist or CounterTerrorist.*"
   ]
  },
  {
   "cell_type": "markdown",
   "metadata": {},
   "source": [
    "### Importing the tools"
   ]
  },
  {
   "cell_type": "code",
   "execution_count": 1,
   "metadata": {},
   "outputs": [],
   "source": [
    "### Importing the tools\n",
    "import pandas as pd\n",
    "import numpy as np\n",
    "import seaborn as sns\n",
    "import pandas_profiling\n",
    "\n",
    "import matplotlib.pyplot as plt\n",
    "%matplotlib inline\n",
    "\n",
    "import warnings\n",
    "warnings.filterwarnings('ignore')\n",
    "\n",
    "from sklearn.model_selection import train_test_split\n",
    "from sklearn.linear_model import LogisticRegression\n",
    "from sklearn.ensemble import RandomForestClassifier\n",
    "\n",
    "from sklearn.metrics import confusion_matrix\n",
    "from sklearn.metrics import plot_confusion_matrix\n",
    "from sklearn.metrics import accuracy_score\n",
    "from sklearn.metrics import classification_report"
   ]
  },
  {
   "cell_type": "markdown",
   "metadata": {},
   "source": [
    "### Importing the data"
   ]
  },
  {
   "cell_type": "code",
   "execution_count": 3,
   "metadata": {},
   "outputs": [],
   "source": [
    "df = pd.read_csv('mm_master_demos.csv', index_col=0)"
   ]
  },
  {
   "cell_type": "code",
   "execution_count": 4,
   "metadata": {},
   "outputs": [
    {
     "data": {
      "text/plain": [
       "(955466, 32)"
      ]
     },
     "execution_count": 4,
     "metadata": {},
     "output_type": "execute_result"
    }
   ],
   "source": [
    "df.shape"
   ]
  },
  {
   "cell_type": "code",
   "execution_count": 5,
   "metadata": {},
   "outputs": [
    {
     "data": {
      "text/html": [
       "<div>\n",
       "<style scoped>\n",
       "    .dataframe tbody tr th:only-of-type {\n",
       "        vertical-align: middle;\n",
       "    }\n",
       "\n",
       "    .dataframe tbody tr th {\n",
       "        vertical-align: top;\n",
       "    }\n",
       "\n",
       "    .dataframe thead th {\n",
       "        text-align: right;\n",
       "    }\n",
       "</style>\n",
       "<table border=\"1\" class=\"dataframe\">\n",
       "  <thead>\n",
       "    <tr style=\"text-align: right;\">\n",
       "      <th></th>\n",
       "      <th>file</th>\n",
       "      <th>map</th>\n",
       "      <th>date</th>\n",
       "      <th>round</th>\n",
       "      <th>tick</th>\n",
       "      <th>seconds</th>\n",
       "      <th>att_team</th>\n",
       "      <th>vic_team</th>\n",
       "      <th>att_side</th>\n",
       "      <th>vic_side</th>\n",
       "      <th>...</th>\n",
       "      <th>vic_id</th>\n",
       "      <th>vic_rank</th>\n",
       "      <th>att_pos_x</th>\n",
       "      <th>att_pos_y</th>\n",
       "      <th>vic_pos_x</th>\n",
       "      <th>vic_pos_y</th>\n",
       "      <th>round_type</th>\n",
       "      <th>ct_eq_val</th>\n",
       "      <th>t_eq_val</th>\n",
       "      <th>avg_match_rank</th>\n",
       "    </tr>\n",
       "  </thead>\n",
       "  <tbody>\n",
       "    <tr>\n",
       "      <th>0</th>\n",
       "      <td>003201673717864202280_0171883906.dem</td>\n",
       "      <td>de_dust2</td>\n",
       "      <td>09/28/2017 8:44:22 PM</td>\n",
       "      <td>1</td>\n",
       "      <td>8482</td>\n",
       "      <td>133.0582</td>\n",
       "      <td>Team 1</td>\n",
       "      <td>Team 2</td>\n",
       "      <td>CounterTerrorist</td>\n",
       "      <td>Terrorist</td>\n",
       "      <td>...</td>\n",
       "      <td>76561198123082770</td>\n",
       "      <td>17</td>\n",
       "      <td>1473.847</td>\n",
       "      <td>1351.358</td>\n",
       "      <td>662.170</td>\n",
       "      <td>772.748</td>\n",
       "      <td>PISTOL_ROUND</td>\n",
       "      <td>2950</td>\n",
       "      <td>3850</td>\n",
       "      <td>16.0</td>\n",
       "    </tr>\n",
       "    <tr>\n",
       "      <th>1</th>\n",
       "      <td>003201673717864202280_0171883906.dem</td>\n",
       "      <td>de_dust2</td>\n",
       "      <td>09/28/2017 8:44:22 PM</td>\n",
       "      <td>1</td>\n",
       "      <td>8600</td>\n",
       "      <td>134.9023</td>\n",
       "      <td>Team 1</td>\n",
       "      <td>Team 2</td>\n",
       "      <td>CounterTerrorist</td>\n",
       "      <td>Terrorist</td>\n",
       "      <td>...</td>\n",
       "      <td>76561198051040004</td>\n",
       "      <td>17</td>\n",
       "      <td>-1211.723</td>\n",
       "      <td>1060.813</td>\n",
       "      <td>-1184.006</td>\n",
       "      <td>1153.343</td>\n",
       "      <td>PISTOL_ROUND</td>\n",
       "      <td>2950</td>\n",
       "      <td>3850</td>\n",
       "      <td>16.0</td>\n",
       "    </tr>\n",
       "    <tr>\n",
       "      <th>2</th>\n",
       "      <td>003201673717864202280_0171883906.dem</td>\n",
       "      <td>de_dust2</td>\n",
       "      <td>09/28/2017 8:44:22 PM</td>\n",
       "      <td>1</td>\n",
       "      <td>8610</td>\n",
       "      <td>135.0586</td>\n",
       "      <td>Team 2</td>\n",
       "      <td>Team 1</td>\n",
       "      <td>Terrorist</td>\n",
       "      <td>CounterTerrorist</td>\n",
       "      <td>...</td>\n",
       "      <td>76561198223006752</td>\n",
       "      <td>16</td>\n",
       "      <td>-1153.584</td>\n",
       "      <td>1163.131</td>\n",
       "      <td>-1198.015</td>\n",
       "      <td>1050.423</td>\n",
       "      <td>PISTOL_ROUND</td>\n",
       "      <td>2950</td>\n",
       "      <td>3850</td>\n",
       "      <td>16.0</td>\n",
       "    </tr>\n",
       "    <tr>\n",
       "      <th>3</th>\n",
       "      <td>003201673717864202280_0171883906.dem</td>\n",
       "      <td>de_dust2</td>\n",
       "      <td>09/28/2017 8:44:22 PM</td>\n",
       "      <td>1</td>\n",
       "      <td>8624</td>\n",
       "      <td>135.2774</td>\n",
       "      <td>Team 1</td>\n",
       "      <td>Team 2</td>\n",
       "      <td>CounterTerrorist</td>\n",
       "      <td>Terrorist</td>\n",
       "      <td>...</td>\n",
       "      <td>76561198051040004</td>\n",
       "      <td>17</td>\n",
       "      <td>-1173.053</td>\n",
       "      <td>1044.365</td>\n",
       "      <td>-1141.785</td>\n",
       "      <td>1190.089</td>\n",
       "      <td>PISTOL_ROUND</td>\n",
       "      <td>2950</td>\n",
       "      <td>3850</td>\n",
       "      <td>16.0</td>\n",
       "    </tr>\n",
       "    <tr>\n",
       "      <th>4</th>\n",
       "      <td>003201673717864202280_0171883906.dem</td>\n",
       "      <td>de_dust2</td>\n",
       "      <td>09/28/2017 8:44:22 PM</td>\n",
       "      <td>1</td>\n",
       "      <td>8632</td>\n",
       "      <td>135.4024</td>\n",
       "      <td>Team 2</td>\n",
       "      <td>Team 1</td>\n",
       "      <td>Terrorist</td>\n",
       "      <td>CounterTerrorist</td>\n",
       "      <td>...</td>\n",
       "      <td>76561198223006752</td>\n",
       "      <td>16</td>\n",
       "      <td>-1142.522</td>\n",
       "      <td>1200.967</td>\n",
       "      <td>-1157.690</td>\n",
       "      <td>1050.702</td>\n",
       "      <td>PISTOL_ROUND</td>\n",
       "      <td>2950</td>\n",
       "      <td>3850</td>\n",
       "      <td>16.0</td>\n",
       "    </tr>\n",
       "  </tbody>\n",
       "</table>\n",
       "<p>5 rows × 32 columns</p>\n",
       "</div>"
      ],
      "text/plain": [
       "                                   file       map                   date  \\\n",
       "0  003201673717864202280_0171883906.dem  de_dust2  09/28/2017 8:44:22 PM   \n",
       "1  003201673717864202280_0171883906.dem  de_dust2  09/28/2017 8:44:22 PM   \n",
       "2  003201673717864202280_0171883906.dem  de_dust2  09/28/2017 8:44:22 PM   \n",
       "3  003201673717864202280_0171883906.dem  de_dust2  09/28/2017 8:44:22 PM   \n",
       "4  003201673717864202280_0171883906.dem  de_dust2  09/28/2017 8:44:22 PM   \n",
       "\n",
       "   round  tick   seconds att_team vic_team          att_side  \\\n",
       "0      1  8482  133.0582   Team 1   Team 2  CounterTerrorist   \n",
       "1      1  8600  134.9023   Team 1   Team 2  CounterTerrorist   \n",
       "2      1  8610  135.0586   Team 2   Team 1         Terrorist   \n",
       "3      1  8624  135.2774   Team 1   Team 2  CounterTerrorist   \n",
       "4      1  8632  135.4024   Team 2   Team 1         Terrorist   \n",
       "\n",
       "           vic_side  ...             vic_id  vic_rank  att_pos_x att_pos_y  \\\n",
       "0         Terrorist  ...  76561198123082770        17   1473.847  1351.358   \n",
       "1         Terrorist  ...  76561198051040004        17  -1211.723  1060.813   \n",
       "2  CounterTerrorist  ...  76561198223006752        16  -1153.584  1163.131   \n",
       "3         Terrorist  ...  76561198051040004        17  -1173.053  1044.365   \n",
       "4  CounterTerrorist  ...  76561198223006752        16  -1142.522  1200.967   \n",
       "\n",
       "  vic_pos_x vic_pos_y    round_type  ct_eq_val t_eq_val avg_match_rank  \n",
       "0   662.170   772.748  PISTOL_ROUND       2950     3850           16.0  \n",
       "1 -1184.006  1153.343  PISTOL_ROUND       2950     3850           16.0  \n",
       "2 -1198.015  1050.423  PISTOL_ROUND       2950     3850           16.0  \n",
       "3 -1141.785  1190.089  PISTOL_ROUND       2950     3850           16.0  \n",
       "4 -1157.690  1050.702  PISTOL_ROUND       2950     3850           16.0  \n",
       "\n",
       "[5 rows x 32 columns]"
      ]
     },
     "execution_count": 5,
     "metadata": {},
     "output_type": "execute_result"
    }
   ],
   "source": [
    "df.head()"
   ]
  },
  {
   "cell_type": "code",
   "execution_count": 6,
   "metadata": {},
   "outputs": [
    {
     "data": {
      "text/plain": [
       "de_mirage       267436\n",
       "de_dust2        217505\n",
       "de_cache        175796\n",
       "de_inferno      121401\n",
       "de_overpass      60071\n",
       "de_cbble         49615\n",
       "de_train         26343\n",
       "de_nuke          10741\n",
       "cs_office         5263\n",
       "de_thrill         3623\n",
       "cs_agency         3204\n",
       "de_canals         3178\n",
       "de_vertigo        2571\n",
       "de_austria        1520\n",
       "cs_assault        1501\n",
       "cs_italy          1356\n",
       "de_dust           1340\n",
       "de_shipped         979\n",
       "cs_insertion       875\n",
       "de_blackgold       603\n",
       "de_aztec           545\n",
       "Name: map, dtype: int64"
      ]
     },
     "execution_count": 6,
     "metadata": {},
     "output_type": "execute_result"
    }
   ],
   "source": [
    "#Checking which maps we have data for\n",
    "df['map'].value_counts()"
   ]
  },
  {
   "cell_type": "code",
   "execution_count": 76,
   "metadata": {},
   "outputs": [
    {
     "data": {
      "text/plain": [
       "de_mirage    267436\n",
       "Name: map, dtype: int64"
      ]
     },
     "execution_count": 76,
     "metadata": {},
     "output_type": "execute_result"
    }
   ],
   "source": [
    "#our goal is to focus on one map.\n",
    "#In this case we are going to look at de_mirage as being the most well popular map in the CSGO community\n",
    "df = df[df.map == 'de_mirage']\n",
    "df['map'].value_counts()"
   ]
  },
  {
   "cell_type": "markdown",
   "metadata": {},
   "source": [
    "### Exploring and cleaning the data"
   ]
  },
  {
   "cell_type": "code",
   "execution_count": 77,
   "metadata": {},
   "outputs": [
    {
     "name": "stdout",
     "output_type": "stream",
     "text": [
      "<class 'pandas.core.frame.DataFrame'>\n",
      "Int64Index: 267436 entries, 0 to 309\n",
      "Data columns (total 32 columns):\n",
      " #   Column           Non-Null Count   Dtype  \n",
      "---  ------           --------------   -----  \n",
      " 0   file             267436 non-null  object \n",
      " 1   map              267436 non-null  object \n",
      " 2   date             267436 non-null  object \n",
      " 3   round            267436 non-null  int64  \n",
      " 4   tick             267436 non-null  int64  \n",
      " 5   seconds          267436 non-null  float64\n",
      " 6   att_team         267436 non-null  object \n",
      " 7   vic_team         267436 non-null  object \n",
      " 8   att_side         267436 non-null  object \n",
      " 9   vic_side         267436 non-null  object \n",
      " 10  hp_dmg           267436 non-null  int64  \n",
      " 11  arm_dmg          267436 non-null  int64  \n",
      " 12  is_bomb_planted  267436 non-null  bool   \n",
      " 13  bomb_site        45420 non-null   object \n",
      " 14  hitbox           267436 non-null  object \n",
      " 15  wp               267436 non-null  object \n",
      " 16  wp_type          267436 non-null  object \n",
      " 17  award            267436 non-null  int64  \n",
      " 18  winner_team      267436 non-null  object \n",
      " 19  winner_side      267436 non-null  object \n",
      " 20  att_id           267436 non-null  int64  \n",
      " 21  att_rank         267436 non-null  int64  \n",
      " 22  vic_id           267436 non-null  int64  \n",
      " 23  vic_rank         267436 non-null  int64  \n",
      " 24  att_pos_x        267436 non-null  float64\n",
      " 25  att_pos_y        267436 non-null  float64\n",
      " 26  vic_pos_x        267436 non-null  float64\n",
      " 27  vic_pos_y        267436 non-null  float64\n",
      " 28  round_type       267436 non-null  object \n",
      " 29  ct_eq_val        267436 non-null  int64  \n",
      " 30  t_eq_val         267436 non-null  int64  \n",
      " 31  avg_match_rank   267436 non-null  float64\n",
      "dtypes: bool(1), float64(6), int64(11), object(14)\n",
      "memory usage: 65.5+ MB\n"
     ]
    }
   ],
   "source": [
    "# NaN and dtype check\n",
    "df.info()\n",
    "# \"bomb_site\" presents only a value in case \"is_bomb_planted\" is TRUE."
   ]
  },
  {
   "cell_type": "code",
   "execution_count": 78,
   "metadata": {},
   "outputs": [
    {
     "data": {
      "text/html": [
       "<div>\n",
       "<style scoped>\n",
       "    .dataframe tbody tr th:only-of-type {\n",
       "        vertical-align: middle;\n",
       "    }\n",
       "\n",
       "    .dataframe tbody tr th {\n",
       "        vertical-align: top;\n",
       "    }\n",
       "\n",
       "    .dataframe thead th {\n",
       "        text-align: right;\n",
       "    }\n",
       "</style>\n",
       "<table border=\"1\" class=\"dataframe\">\n",
       "  <thead>\n",
       "    <tr style=\"text-align: right;\">\n",
       "      <th></th>\n",
       "      <th>file</th>\n",
       "      <th>map</th>\n",
       "      <th>date</th>\n",
       "      <th>att_team</th>\n",
       "      <th>vic_team</th>\n",
       "      <th>att_side</th>\n",
       "      <th>vic_side</th>\n",
       "      <th>bomb_site</th>\n",
       "      <th>hitbox</th>\n",
       "      <th>wp</th>\n",
       "      <th>wp_type</th>\n",
       "      <th>winner_team</th>\n",
       "      <th>winner_side</th>\n",
       "      <th>round_type</th>\n",
       "    </tr>\n",
       "  </thead>\n",
       "  <tbody>\n",
       "    <tr>\n",
       "      <th>0</th>\n",
       "      <td>003218553373129179487_1555113029.dem</td>\n",
       "      <td>de_mirage</td>\n",
       "      <td>09/28/2017 8:44:36 PM</td>\n",
       "      <td>Team 1</td>\n",
       "      <td>Team 2</td>\n",
       "      <td>CounterTerrorist</td>\n",
       "      <td>Terrorist</td>\n",
       "      <td>NaN</td>\n",
       "      <td>Head</td>\n",
       "      <td>USP</td>\n",
       "      <td>Pistol</td>\n",
       "      <td>Team 2</td>\n",
       "      <td>Terrorist</td>\n",
       "      <td>PISTOL_ROUND</td>\n",
       "    </tr>\n",
       "    <tr>\n",
       "      <th>1</th>\n",
       "      <td>003218553373129179487_1555113029.dem</td>\n",
       "      <td>de_mirage</td>\n",
       "      <td>09/28/2017 8:44:36 PM</td>\n",
       "      <td>Team 2</td>\n",
       "      <td>Team 1</td>\n",
       "      <td>Terrorist</td>\n",
       "      <td>CounterTerrorist</td>\n",
       "      <td>NaN</td>\n",
       "      <td>Stomach</td>\n",
       "      <td>Glock</td>\n",
       "      <td>Pistol</td>\n",
       "      <td>Team 2</td>\n",
       "      <td>Terrorist</td>\n",
       "      <td>PISTOL_ROUND</td>\n",
       "    </tr>\n",
       "    <tr>\n",
       "      <th>2</th>\n",
       "      <td>003218553373129179487_1555113029.dem</td>\n",
       "      <td>de_mirage</td>\n",
       "      <td>09/28/2017 8:44:36 PM</td>\n",
       "      <td>Team 2</td>\n",
       "      <td>Team 1</td>\n",
       "      <td>Terrorist</td>\n",
       "      <td>CounterTerrorist</td>\n",
       "      <td>NaN</td>\n",
       "      <td>Head</td>\n",
       "      <td>Glock</td>\n",
       "      <td>Pistol</td>\n",
       "      <td>Team 2</td>\n",
       "      <td>Terrorist</td>\n",
       "      <td>PISTOL_ROUND</td>\n",
       "    </tr>\n",
       "    <tr>\n",
       "      <th>3</th>\n",
       "      <td>003218553373129179487_1555113029.dem</td>\n",
       "      <td>de_mirage</td>\n",
       "      <td>09/28/2017 8:44:36 PM</td>\n",
       "      <td>Team 1</td>\n",
       "      <td>Team 2</td>\n",
       "      <td>CounterTerrorist</td>\n",
       "      <td>Terrorist</td>\n",
       "      <td>NaN</td>\n",
       "      <td>Head</td>\n",
       "      <td>USP</td>\n",
       "      <td>Pistol</td>\n",
       "      <td>Team 2</td>\n",
       "      <td>Terrorist</td>\n",
       "      <td>PISTOL_ROUND</td>\n",
       "    </tr>\n",
       "    <tr>\n",
       "      <th>4</th>\n",
       "      <td>003218553373129179487_1555113029.dem</td>\n",
       "      <td>de_mirage</td>\n",
       "      <td>09/28/2017 8:44:36 PM</td>\n",
       "      <td>Team 2</td>\n",
       "      <td>Team 1</td>\n",
       "      <td>Terrorist</td>\n",
       "      <td>CounterTerrorist</td>\n",
       "      <td>NaN</td>\n",
       "      <td>Head</td>\n",
       "      <td>USP</td>\n",
       "      <td>Pistol</td>\n",
       "      <td>Team 2</td>\n",
       "      <td>Terrorist</td>\n",
       "      <td>PISTOL_ROUND</td>\n",
       "    </tr>\n",
       "  </tbody>\n",
       "</table>\n",
       "</div>"
      ],
      "text/plain": [
       "                                   file        map                   date  \\\n",
       "0  003218553373129179487_1555113029.dem  de_mirage  09/28/2017 8:44:36 PM   \n",
       "1  003218553373129179487_1555113029.dem  de_mirage  09/28/2017 8:44:36 PM   \n",
       "2  003218553373129179487_1555113029.dem  de_mirage  09/28/2017 8:44:36 PM   \n",
       "3  003218553373129179487_1555113029.dem  de_mirage  09/28/2017 8:44:36 PM   \n",
       "4  003218553373129179487_1555113029.dem  de_mirage  09/28/2017 8:44:36 PM   \n",
       "\n",
       "  att_team vic_team          att_side          vic_side bomb_site   hitbox  \\\n",
       "0   Team 1   Team 2  CounterTerrorist         Terrorist       NaN     Head   \n",
       "1   Team 2   Team 1         Terrorist  CounterTerrorist       NaN  Stomach   \n",
       "2   Team 2   Team 1         Terrorist  CounterTerrorist       NaN     Head   \n",
       "3   Team 1   Team 2  CounterTerrorist         Terrorist       NaN     Head   \n",
       "4   Team 2   Team 1         Terrorist  CounterTerrorist       NaN     Head   \n",
       "\n",
       "      wp wp_type winner_team winner_side    round_type  \n",
       "0    USP  Pistol      Team 2   Terrorist  PISTOL_ROUND  \n",
       "1  Glock  Pistol      Team 2   Terrorist  PISTOL_ROUND  \n",
       "2  Glock  Pistol      Team 2   Terrorist  PISTOL_ROUND  \n",
       "3    USP  Pistol      Team 2   Terrorist  PISTOL_ROUND  \n",
       "4    USP  Pistol      Team 2   Terrorist  PISTOL_ROUND  "
      ]
     },
     "execution_count": 78,
     "metadata": {},
     "output_type": "execute_result"
    }
   ],
   "source": [
    "# checking the categorical data\n",
    "df_cat = df.select_dtypes(\"object\")\n",
    "df_cat.head()"
   ]
  },
  {
   "cell_type": "code",
   "execution_count": 182,
   "metadata": {
    "scrolled": true
   },
   "outputs": [
    {
     "data": {
      "image/png": "[encoded data removed]",
      "text/plain": [
       "<Figure size 360x360 with 1 Axes>"
      ]
     },
     "metadata": {
      "needs_background": "light"
     },
     "output_type": "display_data"
    },
    {
     "data": {
      "image/png": "[encoded data removed]",
      "text/plain": [
       "<Figure size 360x360 with 1 Axes>"
      ]
     },
     "metadata": {
      "needs_background": "light"
     },
     "output_type": "display_data"
    },
    {
     "data": {
      "image/png": "[encoded data removed]",
      "text/plain": [
       "<Figure size 360x360 with 1 Axes>"
      ]
     },
     "metadata": {
      "needs_background": "light"
     },
     "output_type": "display_data"
    },
    {
     "data": {
      "image/png": "[encoded data removed]",
      "text/plain": [
       "<Figure size 360x360 with 1 Axes>"
      ]
     },
     "metadata": {
      "needs_background": "light"
     },
     "output_type": "display_data"
    },
    {
     "data": {
      "image/png": "[encoded data removed]",
      "text/plain": [
       "<Figure size 360x360 with 1 Axes>"
      ]
     },
     "metadata": {
      "needs_background": "light"
     },
     "output_type": "display_data"
    },
    {
     "data": {
      "image/png": "[encoded data removed]",
      "text/plain": [
       "<Figure size 360x360 with 1 Axes>"
      ]
     },
     "metadata": {
      "needs_background": "light"
     },
     "output_type": "display_data"
    },
    {
     "data": {
      "image/png": "[encoded data removed]",
      "text/plain": [
       "<Figure size 360x360 with 1 Axes>"
      ]
     },
     "metadata": {
      "needs_background": "light"
     },
     "output_type": "display_data"
    },
    {
     "data": {
      "image/png": "[encoded data removed]",
      "text/plain": [
       "<Figure size 360x360 with 1 Axes>"
      ]
     },
     "metadata": {
      "needs_background": "light"
     },
     "output_type": "display_data"
    },
    {
     "data": {
      "image/png": "[encoded data removed]",
      "text/plain": [
       "<Figure size 360x360 with 1 Axes>"
      ]
     },
     "metadata": {
      "needs_background": "light"
     },
     "output_type": "display_data"
    },
    {
     "data": {
      "image/png": "[encoded data removed]",
      "text/plain": [
       "<Figure size 360x360 with 1 Axes>"
      ]
     },
     "metadata": {
      "needs_background": "light"
     },
     "output_type": "display_data"
    },
    {
     "data": {
      "image/png": "[encoded data removed]",
      "text/plain": [
       "<Figure size 360x360 with 1 Axes>"
      ]
     },
     "metadata": {
      "needs_background": "light"
     },
     "output_type": "display_data"
    },
    {
     "data": {
      "image/png": "[encoded data removed]",
      "text/plain": [
       "<Figure size 360x360 with 1 Axes>"
      ]
     },
     "metadata": {
      "needs_background": "light"
     },
     "output_type": "display_data"
    },
    {
     "data": {
      "image/png": "[encoded data removed]",
      "text/plain": [
       "<Figure size 360x360 with 1 Axes>"
      ]
     },
     "metadata": {
      "needs_background": "light"
     },
     "output_type": "display_data"
    },
    {
     "data": {
      "image/png": "[encoded data removed]",
      "text/plain": [
       "<Figure size 360x360 with 1 Axes>"
      ]
     },
     "metadata": {
      "needs_background": "light"
     },
     "output_type": "display_data"
    }
   ],
   "source": [
    "for col in df_cat.columns:\n",
    "    sns.catplot(x = col, kind = \"count\", data = df_cat)\n",
    "    plt.show()"
   ]
  },
  {
   "cell_type": "code",
   "execution_count": 101,
   "metadata": {},
   "outputs": [
    {
     "data": {
      "text/html": [
       "<div>\n",
       "<style scoped>\n",
       "    .dataframe tbody tr th:only-of-type {\n",
       "        vertical-align: middle;\n",
       "    }\n",
       "\n",
       "    .dataframe tbody tr th {\n",
       "        vertical-align: top;\n",
       "    }\n",
       "\n",
       "    .dataframe thead th {\n",
       "        text-align: right;\n",
       "    }\n",
       "</style>\n",
       "<table border=\"1\" class=\"dataframe\">\n",
       "  <thead>\n",
       "    <tr style=\"text-align: right;\">\n",
       "      <th></th>\n",
       "      <th>round</th>\n",
       "      <th>tick</th>\n",
       "      <th>seconds</th>\n",
       "      <th>hp_dmg</th>\n",
       "      <th>arm_dmg</th>\n",
       "      <th>award</th>\n",
       "      <th>att_id</th>\n",
       "      <th>att_rank</th>\n",
       "      <th>vic_id</th>\n",
       "      <th>vic_rank</th>\n",
       "      <th>att_pos_x</th>\n",
       "      <th>att_pos_y</th>\n",
       "      <th>vic_pos_x</th>\n",
       "      <th>vic_pos_y</th>\n",
       "      <th>ct_eq_val</th>\n",
       "      <th>t_eq_val</th>\n",
       "      <th>avg_match_rank</th>\n",
       "    </tr>\n",
       "  </thead>\n",
       "  <tbody>\n",
       "    <tr>\n",
       "      <th>0</th>\n",
       "      <td>1</td>\n",
       "      <td>7392</td>\n",
       "      <td>115.9530</td>\n",
       "      <td>100</td>\n",
       "      <td>0</td>\n",
       "      <td>300</td>\n",
       "      <td>76561198115686363</td>\n",
       "      <td>16</td>\n",
       "      <td>76561198370068230</td>\n",
       "      <td>16</td>\n",
       "      <td>-359.5016</td>\n",
       "      <td>389.7257</td>\n",
       "      <td>-468.7209</td>\n",
       "      <td>529.1569</td>\n",
       "      <td>4250</td>\n",
       "      <td>4200</td>\n",
       "      <td>15.0</td>\n",
       "    </tr>\n",
       "    <tr>\n",
       "      <th>1</th>\n",
       "      <td>1</td>\n",
       "      <td>7394</td>\n",
       "      <td>115.9842</td>\n",
       "      <td>15</td>\n",
       "      <td>8</td>\n",
       "      <td>300</td>\n",
       "      <td>76561198355692407</td>\n",
       "      <td>17</td>\n",
       "      <td>76561198115686363</td>\n",
       "      <td>16</td>\n",
       "      <td>-650.1707</td>\n",
       "      <td>520.0313</td>\n",
       "      <td>-352.4009</td>\n",
       "      <td>392.1384</td>\n",
       "      <td>4250</td>\n",
       "      <td>4200</td>\n",
       "      <td>15.0</td>\n",
       "    </tr>\n",
       "    <tr>\n",
       "      <th>2</th>\n",
       "      <td>1</td>\n",
       "      <td>7404</td>\n",
       "      <td>116.1405</td>\n",
       "      <td>85</td>\n",
       "      <td>0</td>\n",
       "      <td>300</td>\n",
       "      <td>76561198355692407</td>\n",
       "      <td>17</td>\n",
       "      <td>76561198115686363</td>\n",
       "      <td>16</td>\n",
       "      <td>-650.1707</td>\n",
       "      <td>520.0313</td>\n",
       "      <td>-335.1208</td>\n",
       "      <td>401.2988</td>\n",
       "      <td>4250</td>\n",
       "      <td>4200</td>\n",
       "      <td>15.0</td>\n",
       "    </tr>\n",
       "    <tr>\n",
       "      <th>3</th>\n",
       "      <td>1</td>\n",
       "      <td>8154</td>\n",
       "      <td>127.8608</td>\n",
       "      <td>100</td>\n",
       "      <td>0</td>\n",
       "      <td>300</td>\n",
       "      <td>76561198152153688</td>\n",
       "      <td>16</td>\n",
       "      <td>76561198301910020</td>\n",
       "      <td>13</td>\n",
       "      <td>-2064.0290</td>\n",
       "      <td>793.1069</td>\n",
       "      <td>-1575.5010</td>\n",
       "      <td>685.9157</td>\n",
       "      <td>4250</td>\n",
       "      <td>4200</td>\n",
       "      <td>15.0</td>\n",
       "    </tr>\n",
       "    <tr>\n",
       "      <th>4</th>\n",
       "      <td>1</td>\n",
       "      <td>8162</td>\n",
       "      <td>127.9858</td>\n",
       "      <td>100</td>\n",
       "      <td>0</td>\n",
       "      <td>300</td>\n",
       "      <td>76561198355692407</td>\n",
       "      <td>17</td>\n",
       "      <td>76561198152153688</td>\n",
       "      <td>16</td>\n",
       "      <td>-1090.8520</td>\n",
       "      <td>677.1235</td>\n",
       "      <td>-2063.8480</td>\n",
       "      <td>793.9529</td>\n",
       "      <td>4250</td>\n",
       "      <td>4200</td>\n",
       "      <td>15.0</td>\n",
       "    </tr>\n",
       "  </tbody>\n",
       "</table>\n",
       "</div>"
      ],
      "text/plain": [
       "   round  tick   seconds  hp_dmg  arm_dmg  award             att_id  att_rank  \\\n",
       "0      1  7392  115.9530     100        0    300  76561198115686363        16   \n",
       "1      1  7394  115.9842      15        8    300  76561198355692407        17   \n",
       "2      1  7404  116.1405      85        0    300  76561198355692407        17   \n",
       "3      1  8154  127.8608     100        0    300  76561198152153688        16   \n",
       "4      1  8162  127.9858     100        0    300  76561198355692407        17   \n",
       "\n",
       "              vic_id  vic_rank  att_pos_x  att_pos_y  vic_pos_x  vic_pos_y  \\\n",
       "0  76561198370068230        16  -359.5016   389.7257  -468.7209   529.1569   \n",
       "1  76561198115686363        16  -650.1707   520.0313  -352.4009   392.1384   \n",
       "2  76561198115686363        16  -650.1707   520.0313  -335.1208   401.2988   \n",
       "3  76561198301910020        13 -2064.0290   793.1069 -1575.5010   685.9157   \n",
       "4  76561198152153688        16 -1090.8520   677.1235 -2063.8480   793.9529   \n",
       "\n",
       "   ct_eq_val  t_eq_val  avg_match_rank  \n",
       "0       4250      4200            15.0  \n",
       "1       4250      4200            15.0  \n",
       "2       4250      4200            15.0  \n",
       "3       4250      4200            15.0  \n",
       "4       4250      4200            15.0  "
      ]
     },
     "execution_count": 101,
     "metadata": {},
     "output_type": "execute_result"
    }
   ],
   "source": [
    "# checking the numerical data\n",
    "df_num = df.select_dtypes(\"number\")\n",
    "df_num.head()"
   ]
  },
  {
   "cell_type": "code",
   "execution_count": 102,
   "metadata": {},
   "outputs": [],
   "source": [
    "# ps: numerical columns visualizatiom often crashes the kernel - so it was removed from current version"
   ]
  },
  {
   "cell_type": "code",
   "execution_count": 82,
   "metadata": {
    "scrolled": true
   },
   "outputs": [
    {
     "data": {
      "text/plain": [
       "CounterTerrorist    138503\n",
       "Terrorist           126974\n",
       "None                  1959\n",
       "Name: att_side, dtype: int64"
      ]
     },
     "execution_count": 82,
     "metadata": {},
     "output_type": "execute_result"
    }
   ],
   "source": [
    "# we notice that some of the \"attacking side\" values are not assigned to a team.\n",
    "# best guess these are collateral damages (\"Bomb Blast, Fall Damage\").\n",
    "# decision to remove them from data\n",
    "df['att_side'].value_counts()"
   ]
  },
  {
   "cell_type": "code",
   "execution_count": 103,
   "metadata": {},
   "outputs": [],
   "source": [
    "df = df[df.att_side != 'None']"
   ]
  },
  {
   "cell_type": "code",
   "execution_count": 104,
   "metadata": {},
   "outputs": [
    {
     "name": "stdout",
     "output_type": "stream",
     "text": [
      "hp_dmg 0 100\n",
      "arm_dmg 0 34\n",
      "ct_eq_val 1000 37450\n",
      "t_eq_val 1000 35850\n"
     ]
    }
   ],
   "source": [
    "#checking for data width\n",
    "print('hp_dmg', min(df['hp_dmg']), max(df['hp_dmg']))\n",
    "print('arm_dmg', min(df['arm_dmg']), max(df['arm_dmg']))\n",
    "print('ct_eq_val', min(df['ct_eq_val']), max(df['ct_eq_val']))\n",
    "print('t_eq_val', min(df['t_eq_val']), max(df['t_eq_val']))"
   ]
  },
  {
   "cell_type": "code",
   "execution_count": 105,
   "metadata": {},
   "outputs": [
    {
     "data": {
      "text/plain": [
       "Rifle        123497\n",
       "Pistol        54291\n",
       "SMG           46127\n",
       "Grenade       22029\n",
       "Sniper        13698\n",
       "Heavy          5083\n",
       "Equipment       749\n",
       "Name: wp_type, dtype: int64"
      ]
     },
     "execution_count": 105,
     "metadata": {},
     "output_type": "execute_result"
    }
   ],
   "source": [
    "# checking entries according to weapon types\n",
    "df['wp_type'].value_counts()"
   ]
  },
  {
   "cell_type": "code",
   "execution_count": 106,
   "metadata": {},
   "outputs": [],
   "source": [
    "# removing unknown weapons\n",
    "df = df[df.wp_type != 'Unkown']"
   ]
  },
  {
   "cell_type": "code",
   "execution_count": 107,
   "metadata": {
    "scrolled": true
   },
   "outputs": [
    {
     "data": {
      "text/plain": [
       "NORMAL          116226\n",
       "ECO              67885\n",
       "FORCE_BUY        40122\n",
       "PISTOL_ROUND     21743\n",
       "SEMI_ECO         19498\n",
       "Name: round_type, dtype: int64"
      ]
     },
     "execution_count": 107,
     "metadata": {},
     "output_type": "execute_result"
    }
   ],
   "source": [
    "# round_type check\n",
    "df['round_type'].value_counts()"
   ]
  },
  {
   "cell_type": "code",
   "execution_count": 108,
   "metadata": {},
   "outputs": [
    {
     "data": {
      "text/plain": [
       "A    23464\n",
       "B    20363\n",
       "Name: bomb_site, dtype: int64"
      ]
     },
     "execution_count": 108,
     "metadata": {},
     "output_type": "execute_result"
    }
   ],
   "source": [
    "df['bomb_site'].value_counts()\n",
    "# \"bomb_site\" presents only a value in case \"is_bomb_planted\" is TRUE.\n",
    "\n",
    "# we currently see that there is an even spread between having a bomb planted in Site A or Site B\n",
    "# yet we can't make use of this info due to the survival bias.\n",
    "# We only have a view on Terrorist pushes that managed to arrive to a bomb site but not how many attempts there were."
   ]
  },
  {
   "cell_type": "code",
   "execution_count": 109,
   "metadata": {
    "scrolled": false
   },
   "outputs": [
    {
     "name": "stdout",
     "output_type": "stream",
     "text": [
      "our df consists of 371 matches\n"
     ]
    }
   ],
   "source": [
    "# count of matches\n",
    "print('our df consists of', df['file'].nunique(), 'matches' )"
   ]
  },
  {
   "cell_type": "code",
   "execution_count": 110,
   "metadata": {
    "scrolled": false
   },
   "outputs": [
    {
     "name": "stdout",
     "output_type": "stream",
     "text": [
      "our df consists of 9209 rounds\n"
     ]
    }
   ],
   "source": [
    "# count of rounds\n",
    "print(\"our df consists of\", df.groupby(['file', 'round']).ngroups, \"rounds\")"
   ]
  },
  {
   "cell_type": "markdown",
   "metadata": {},
   "source": [
    "### Dropping columns"
   ]
  },
  {
   "cell_type": "code",
   "execution_count": 111,
   "metadata": {},
   "outputs": [],
   "source": [
    "# dropping micro columns - the idea is to focus on round level info rather than in-round events.\n",
    "\n",
    "df.drop(['date','tick','att_pos_x','att_pos_y','vic_pos_x','vic_pos_y','vic_id','att_team','vic_team','att_id','map','winner_team','award','att_rank','vic_rank','avg_match_rank'], axis=1, inplace=True)\n",
    "df.drop(['wp','hp_dmg','arm_dmg','bomb_site','vic_side'], axis=1, inplace=True)\n",
    "df.drop(['seconds','att_side','hitbox','wp_type'], axis=1, inplace=True)"
   ]
  },
  {
   "cell_type": "code",
   "execution_count": 114,
   "metadata": {},
   "outputs": [],
   "source": [
    "# dropping duplicates on the whole dataframe and adjusting index\n",
    "df.drop_duplicates(inplace = True, ignore_index = True)"
   ]
  },
  {
   "cell_type": "code",
   "execution_count": 115,
   "metadata": {},
   "outputs": [],
   "source": [
    "# noticed that there are still multiple entries for each round due to \"is_bomb_planted\" values\n",
    "# dropping duplicates while keep the last occurance of \"is_bomb_planted = True\" if exists\n",
    "df.drop_duplicates(subset=['file', 'round', 'winner_side','round_type','ct_eq_val','t_eq_val'], keep='last', inplace = True, ignore_index = True)"
   ]
  },
  {
   "cell_type": "code",
   "execution_count": 169,
   "metadata": {},
   "outputs": [],
   "source": [
    "#df.profile_report()"
   ]
  },
  {
   "cell_type": "markdown",
   "metadata": {},
   "source": [
    "### Transforming Categorical Data to Numerical"
   ]
  },
  {
   "cell_type": "code",
   "execution_count": 118,
   "metadata": {},
   "outputs": [],
   "source": [
    "# get dummies\n",
    "df = pd.get_dummies(df, columns = ['round_type','is_bomb_planted'])"
   ]
  },
  {
   "cell_type": "code",
   "execution_count": 119,
   "metadata": {
    "scrolled": true
   },
   "outputs": [],
   "source": [
    "# replacing 'file' entries by a unique simple number + rename column to 'match'\n",
    "df['file'] = pd.factorize(df.file)[0] + 1\n",
    "df[\"file\"] = pd.to_numeric(df[\"file\"])\n",
    "df.rename(columns={'file': 'match'}, inplace=True)"
   ]
  },
  {
   "cell_type": "code",
   "execution_count": 120,
   "metadata": {},
   "outputs": [],
   "source": [
    "# lowercase all column headers\n",
    "df.columns = map(str.lower, df.columns)"
   ]
  },
  {
   "cell_type": "code",
   "execution_count": 127,
   "metadata": {},
   "outputs": [
    {
     "data": {
      "text/html": [
       "<div>\n",
       "<style scoped>\n",
       "    .dataframe tbody tr th:only-of-type {\n",
       "        vertical-align: middle;\n",
       "    }\n",
       "\n",
       "    .dataframe tbody tr th {\n",
       "        vertical-align: top;\n",
       "    }\n",
       "\n",
       "    .dataframe thead th {\n",
       "        text-align: right;\n",
       "    }\n",
       "</style>\n",
       "<table border=\"1\" class=\"dataframe\">\n",
       "  <thead>\n",
       "    <tr style=\"text-align: right;\">\n",
       "      <th></th>\n",
       "      <th>ct_eq_val</th>\n",
       "      <th>t_eq_val</th>\n",
       "      <th>round_type_eco</th>\n",
       "      <th>round_type_force_buy</th>\n",
       "      <th>round_type_normal</th>\n",
       "      <th>round_type_pistol_round</th>\n",
       "      <th>round_type_semi_eco</th>\n",
       "      <th>is_bomb_planted_false</th>\n",
       "      <th>is_bomb_planted_true</th>\n",
       "    </tr>\n",
       "  </thead>\n",
       "  <tbody>\n",
       "    <tr>\n",
       "      <th>0</th>\n",
       "      <td>4250</td>\n",
       "      <td>4200</td>\n",
       "      <td>0</td>\n",
       "      <td>0</td>\n",
       "      <td>0</td>\n",
       "      <td>1</td>\n",
       "      <td>0</td>\n",
       "      <td>1</td>\n",
       "      <td>0</td>\n",
       "    </tr>\n",
       "    <tr>\n",
       "      <th>1</th>\n",
       "      <td>5000</td>\n",
       "      <td>16250</td>\n",
       "      <td>1</td>\n",
       "      <td>0</td>\n",
       "      <td>0</td>\n",
       "      <td>0</td>\n",
       "      <td>0</td>\n",
       "      <td>0</td>\n",
       "      <td>1</td>\n",
       "    </tr>\n",
       "    <tr>\n",
       "      <th>2</th>\n",
       "      <td>4250</td>\n",
       "      <td>19350</td>\n",
       "      <td>1</td>\n",
       "      <td>0</td>\n",
       "      <td>0</td>\n",
       "      <td>0</td>\n",
       "      <td>0</td>\n",
       "      <td>0</td>\n",
       "      <td>1</td>\n",
       "    </tr>\n",
       "    <tr>\n",
       "      <th>3</th>\n",
       "      <td>16200</td>\n",
       "      <td>22700</td>\n",
       "      <td>0</td>\n",
       "      <td>0</td>\n",
       "      <td>1</td>\n",
       "      <td>0</td>\n",
       "      <td>0</td>\n",
       "      <td>0</td>\n",
       "      <td>1</td>\n",
       "    </tr>\n",
       "    <tr>\n",
       "      <th>4</th>\n",
       "      <td>13350</td>\n",
       "      <td>25250</td>\n",
       "      <td>0</td>\n",
       "      <td>1</td>\n",
       "      <td>0</td>\n",
       "      <td>0</td>\n",
       "      <td>0</td>\n",
       "      <td>0</td>\n",
       "      <td>1</td>\n",
       "    </tr>\n",
       "  </tbody>\n",
       "</table>\n",
       "</div>"
      ],
      "text/plain": [
       "   ct_eq_val  t_eq_val  round_type_eco  round_type_force_buy  \\\n",
       "0       4250      4200               0                     0   \n",
       "1       5000     16250               1                     0   \n",
       "2       4250     19350               1                     0   \n",
       "3      16200     22700               0                     0   \n",
       "4      13350     25250               0                     1   \n",
       "\n",
       "   round_type_normal  round_type_pistol_round  round_type_semi_eco  \\\n",
       "0                  0                        1                    0   \n",
       "1                  0                        0                    0   \n",
       "2                  0                        0                    0   \n",
       "3                  1                        0                    0   \n",
       "4                  0                        0                    0   \n",
       "\n",
       "   is_bomb_planted_false  is_bomb_planted_true  \n",
       "0                      1                     0  \n",
       "1                      0                     1  \n",
       "2                      0                     1  \n",
       "3                      0                     1  \n",
       "4                      0                     1  "
      ]
     },
     "execution_count": 127,
     "metadata": {},
     "output_type": "execute_result"
    }
   ],
   "source": [
    "# df for correlation\n",
    "df_corr = df.drop(['winner_side', 'match','round'], axis=1)\n",
    "df_corr.head()"
   ]
  },
  {
   "cell_type": "markdown",
   "metadata": {},
   "source": [
    "### Checking for Correlation"
   ]
  },
  {
   "cell_type": "code",
   "execution_count": 170,
   "metadata": {},
   "outputs": [
    {
     "data": {
      "image/png": "[encoded data removed]",
      "text/plain": [
       "<Figure size 720x576 with 2 Axes>"
      ]
     },
     "metadata": {
      "needs_background": "light"
     },
     "output_type": "display_data"
    }
   ],
   "source": [
    "# checking for correlation\n",
    "corr_matrix=df_corr.corr(method='pearson')\n",
    "fig, ax = plt.subplots(figsize=(10, 8))\n",
    "ax = sns.heatmap(corr_matrix, annot=True)\n",
    "plt.show()"
   ]
  },
  {
   "cell_type": "markdown",
   "metadata": {},
   "source": [
    "## Predicting the winner of the round - Modelling"
   ]
  },
  {
   "cell_type": "markdown",
   "metadata": {},
   "source": [
    "### Logistic Regression Method"
   ]
  },
  {
   "cell_type": "code",
   "execution_count": 130,
   "metadata": {},
   "outputs": [
    {
     "data": {
      "text/html": [
       "<div>\n",
       "<style scoped>\n",
       "    .dataframe tbody tr th:only-of-type {\n",
       "        vertical-align: middle;\n",
       "    }\n",
       "\n",
       "    .dataframe tbody tr th {\n",
       "        vertical-align: top;\n",
       "    }\n",
       "\n",
       "    .dataframe thead th {\n",
       "        text-align: right;\n",
       "    }\n",
       "</style>\n",
       "<table border=\"1\" class=\"dataframe\">\n",
       "  <thead>\n",
       "    <tr style=\"text-align: right;\">\n",
       "      <th></th>\n",
       "      <th>ct_eq_val</th>\n",
       "      <th>t_eq_val</th>\n",
       "      <th>round_type_eco</th>\n",
       "      <th>round_type_force_buy</th>\n",
       "      <th>round_type_normal</th>\n",
       "      <th>round_type_pistol_round</th>\n",
       "      <th>round_type_semi_eco</th>\n",
       "      <th>is_bomb_planted_false</th>\n",
       "      <th>is_bomb_planted_true</th>\n",
       "    </tr>\n",
       "  </thead>\n",
       "  <tbody>\n",
       "    <tr>\n",
       "      <th>0</th>\n",
       "      <td>4250</td>\n",
       "      <td>4200</td>\n",
       "      <td>0</td>\n",
       "      <td>0</td>\n",
       "      <td>0</td>\n",
       "      <td>1</td>\n",
       "      <td>0</td>\n",
       "      <td>1</td>\n",
       "      <td>0</td>\n",
       "    </tr>\n",
       "    <tr>\n",
       "      <th>1</th>\n",
       "      <td>5000</td>\n",
       "      <td>16250</td>\n",
       "      <td>1</td>\n",
       "      <td>0</td>\n",
       "      <td>0</td>\n",
       "      <td>0</td>\n",
       "      <td>0</td>\n",
       "      <td>0</td>\n",
       "      <td>1</td>\n",
       "    </tr>\n",
       "    <tr>\n",
       "      <th>2</th>\n",
       "      <td>4250</td>\n",
       "      <td>19350</td>\n",
       "      <td>1</td>\n",
       "      <td>0</td>\n",
       "      <td>0</td>\n",
       "      <td>0</td>\n",
       "      <td>0</td>\n",
       "      <td>0</td>\n",
       "      <td>1</td>\n",
       "    </tr>\n",
       "    <tr>\n",
       "      <th>3</th>\n",
       "      <td>16200</td>\n",
       "      <td>22700</td>\n",
       "      <td>0</td>\n",
       "      <td>0</td>\n",
       "      <td>1</td>\n",
       "      <td>0</td>\n",
       "      <td>0</td>\n",
       "      <td>0</td>\n",
       "      <td>1</td>\n",
       "    </tr>\n",
       "    <tr>\n",
       "      <th>4</th>\n",
       "      <td>13350</td>\n",
       "      <td>25250</td>\n",
       "      <td>0</td>\n",
       "      <td>1</td>\n",
       "      <td>0</td>\n",
       "      <td>0</td>\n",
       "      <td>0</td>\n",
       "      <td>0</td>\n",
       "      <td>1</td>\n",
       "    </tr>\n",
       "  </tbody>\n",
       "</table>\n",
       "</div>"
      ],
      "text/plain": [
       "   ct_eq_val  t_eq_val  round_type_eco  round_type_force_buy  \\\n",
       "0       4250      4200               0                     0   \n",
       "1       5000     16250               1                     0   \n",
       "2       4250     19350               1                     0   \n",
       "3      16200     22700               0                     0   \n",
       "4      13350     25250               0                     1   \n",
       "\n",
       "   round_type_normal  round_type_pistol_round  round_type_semi_eco  \\\n",
       "0                  0                        1                    0   \n",
       "1                  0                        0                    0   \n",
       "2                  0                        0                    0   \n",
       "3                  1                        0                    0   \n",
       "4                  0                        0                    0   \n",
       "\n",
       "   is_bomb_planted_false  is_bomb_planted_true  \n",
       "0                      1                     0  \n",
       "1                      0                     1  \n",
       "2                      0                     1  \n",
       "3                      0                     1  \n",
       "4                      0                     1  "
      ]
     },
     "execution_count": 130,
     "metadata": {},
     "output_type": "execute_result"
    }
   ],
   "source": [
    "X = df_corr\n",
    "y = df[\"winner_side\"]\n",
    "X.head()"
   ]
  },
  {
   "cell_type": "code",
   "execution_count": 131,
   "metadata": {},
   "outputs": [],
   "source": [
    "X_train, X_test, y_train, y_test = train_test_split(X, y, test_size=0.33, random_state=100)"
   ]
  },
  {
   "cell_type": "code",
   "execution_count": 132,
   "metadata": {},
   "outputs": [],
   "source": [
    "lrc = LogisticRegression(random_state=100, multi_class='ovr', max_iter=1000).fit(X_train, y_train.values.ravel())"
   ]
  },
  {
   "cell_type": "code",
   "execution_count": 157,
   "metadata": {},
   "outputs": [],
   "source": [
    "def Log_Analisis(lrc, X_test, y_test):\n",
    "    predictions = lrc.predict(X_test) \n",
    "    print(\"model accuracy: %4.2f \" % accuracy_score(y_test, predictions))\n",
    "    print()\n",
    "    print(classification_report(y_test, predictions))\n",
    "    plot_confusion_matrix(lr, X_test, y_test) \n",
    "    plt.show()"
   ]
  },
  {
   "cell_type": "code",
   "execution_count": 158,
   "metadata": {},
   "outputs": [
    {
     "name": "stdout",
     "output_type": "stream",
     "text": [
      "model accuracy: 0.76 \n",
      "\n",
      "                  precision    recall  f1-score   support\n",
      "\n",
      "CounterTerrorist       0.77      0.74      0.76      1504\n",
      "       Terrorist       0.75      0.79      0.77      1535\n",
      "\n",
      "        accuracy                           0.76      3039\n",
      "       macro avg       0.76      0.76      0.76      3039\n",
      "    weighted avg       0.76      0.76      0.76      3039\n",
      "\n"
     ]
    },
    {
     "data": {
      "image/png": "[encoded data removed]",
      "text/plain": [
       "<Figure size 432x288 with 2 Axes>"
      ]
     },
     "metadata": {
      "needs_background": "light"
     },
     "output_type": "display_data"
    }
   ],
   "source": [
    "Log_Analisis(lrc, X_test, y_test)"
   ]
  },
  {
   "cell_type": "markdown",
   "metadata": {},
   "source": [
    "### Random Forest Method"
   ]
  },
  {
   "cell_type": "code",
   "execution_count": 159,
   "metadata": {},
   "outputs": [],
   "source": [
    "X_train, X_test, y_train, y_test = train_test_split(X, y, test_size=0.33, random_state=100)"
   ]
  },
  {
   "cell_type": "code",
   "execution_count": 160,
   "metadata": {},
   "outputs": [],
   "source": [
    "rfc = RandomForestClassifier(random_state=100).fit(X_train, y_train.values.ravel())"
   ]
  },
  {
   "cell_type": "code",
   "execution_count": 161,
   "metadata": {},
   "outputs": [
    {
     "name": "stdout",
     "output_type": "stream",
     "text": [
      "model accuracy: 0.72 \n",
      "\n",
      "                  precision    recall  f1-score   support\n",
      "\n",
      "CounterTerrorist       0.72      0.71      0.72      1504\n",
      "       Terrorist       0.72      0.73      0.73      1535\n",
      "\n",
      "        accuracy                           0.72      3039\n",
      "       macro avg       0.72      0.72      0.72      3039\n",
      "    weighted avg       0.72      0.72      0.72      3039\n",
      "\n"
     ]
    },
    {
     "data": {
      "image/png": "[encoded data removed]",
      "text/plain": [
       "<Figure size 432x288 with 2 Axes>"
      ]
     },
     "metadata": {
      "needs_background": "light"
     },
     "output_type": "display_data"
    }
   ],
   "source": [
    "Log_Analisis(rfc, X_test, y_test)"
   ]
  },
  {
   "cell_type": "code",
   "execution_count": 162,
   "metadata": {},
   "outputs": [
    {
     "data": {
      "image/png": "[encoded data removed]",
      "text/plain": [
       "<Figure size 432x288 with 1 Axes>"
      ]
     },
     "metadata": {
      "needs_background": "light"
     },
     "output_type": "display_data"
    },
    {
     "data": {
      "text/plain": [
       "<Figure size 576x288 with 0 Axes>"
      ]
     },
     "metadata": {},
     "output_type": "display_data"
    }
   ],
   "source": [
    " # Importance of features in the model\n",
    "ax = sns.barplot(x = X.columns, y = rfc.feature_importances_)\n",
    "\n",
    "plt.figure(figsize=(8,4))\n",
    "\n",
    "ax.set_xticklabels(ax.get_xticklabels(), rotation=40, ha=\"right\")\n",
    "plt.tight_layout()\n",
    "plt.show()"
   ]
  },
  {
   "cell_type": "markdown",
   "metadata": {},
   "source": [
    "### Summary - Prototype Model - Round Winning Side Prediction\n",
    "\n",
    "As calculated, by diving into data retrieved from 371 matches / 9209 rounds, we have managed as a first step to create a Logistic Regression model that is able to predict with 76% accuracy the winning side of the round.\n",
    "\n",
    "We can now look forward to the next iteration and building an IGES recommender (see next section)."
   ]
  },
  {
   "cell_type": "markdown",
   "metadata": {},
   "source": [
    "## Future Project Inspiration:"
   ]
  },
  {
   "cell_type": "markdown",
   "metadata": {},
   "source": [
    "### Build an IGES recommender (In-Game Economy Strategy Recommender)\n",
    "Buidling a recommender tool to analyse current match standings and suggest best-in game economy strategy for the next round to maximize match winning success:\n",
    "- iteratively calculate at each round the probability of success (defined here as winning the match = reaching 16 round wins first) \n",
    "- have a model that would, according to user inputs of current team score and round, shoot out current probability of success, and recommend a game economy strategy for the next round for the user's team (example: eco round, force buy round, normal round)"
   ]
  },
  {
   "cell_type": "markdown",
   "metadata": {},
   "source": [
    "Some suggestions to prototyping on the current dataset:\n",
    "- retrieve cash award per team due to kills (calculate cumulative damage of victims, any attack taking that damage in the range of 100 should be considered as the kill attack and award the kill reward which is weapon dependent)\n",
    "- add in the cash reward for winning / losing the game which is streak dependent\n",
    "- consider remaining alive team members by end of round\n",
    "- consider team equipment value"
   ]
  },
  {
   "cell_type": "code",
   "execution_count": null,
   "metadata": {},
   "outputs": [],
   "source": []
  }
 ],
 "metadata": {
  "kernelspec": {
   "display_name": "Python 3",
   "language": "python",
   "name": "python3"
  },
  "language_info": {
   "codemirror_mode": {
    "name": "ipython",
    "version": 3
   },
   "file_extension": ".py",
   "mimetype": "text/x-python",
   "name": "python",
   "nbconvert_exporter": "python",
   "pygments_lexer": "ipython3",
   "version": "3.8.5"
  }
 },
 "nbformat": 4,
 "nbformat_minor": 4
}
